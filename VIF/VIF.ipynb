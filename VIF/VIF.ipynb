{
 "cells": [
  {
   "cell_type": "markdown",
   "metadata": {},
   "source": [
    "Multicollinearity is where 3 or more features are highly correlated.  I am going to demonstrate how to calculate when you are experiencing multicollinearity using variance inflation factor (VIF).\n",
    "\n",
    "To start I am going to use sklearn to make a dataset. "
   ]
  },
  {
   "cell_type": "code",
   "execution_count": 1,
   "metadata": {},
   "outputs": [],
   "source": [
    "from sklearn.datasets import make_regression\n",
    "import pandas as pd\n",
    "import numpy as np\n",
    "np.random.seed(11)"
   ]
  },
  {
   "cell_type": "code",
   "execution_count": 2,
   "metadata": {},
   "outputs": [],
   "source": [
    "X, y = make_regression(n_features = 10, noise=10, random_state=11, )\n",
    "df = pd.DataFrame(X, columns=['X1', 'X2', 'X3', 'X4', 'X5', 'X6', 'X7', 'X8', 'X9', 'X10'])\n",
    "df['Y'] = y"
   ]
  },
  {
   "cell_type": "markdown",
   "metadata": {},
   "source": [
    "I am going to create a new feature that is a combination of the other features. "
   ]
  },
  {
   "cell_type": "code",
   "execution_count": 3,
   "metadata": {},
   "outputs": [],
   "source": [
    "df['X11'] = df['X1'] - df['X2'] + df['X3'] + np.random.normal(scale = 15)"
   ]
  },
  {
   "cell_type": "markdown",
   "metadata": {},
   "source": [
    "Now lets look at the correlation heat map to see if there is any highly correlated features. "
   ]
  },
  {
   "cell_type": "code",
   "execution_count": 4,
   "metadata": {},
   "outputs": [
    {
     "data": {
      "text/plain": [
       "<matplotlib.axes._subplots.AxesSubplot at 0x1a1aa84c50>"
      ]
     },
     "execution_count": 4,
     "metadata": {},
     "output_type": "execute_result"
    }
   ],
   "source": [
    "import seaborn as sns \n",
    "sns.heatmap(df.corr(), vmin = -1, vmax = 1)"
   ]
  },
  {
   "cell_type": "code",
   "execution_count": 5,
   "metadata": {},
   "outputs": [
    {
     "data": {
      "text/plain": [
       "<matplotlib.axes._subplots.AxesSubplot at 0x1a1ae8d780>"
      ]
     },
     "execution_count": 5,
     "metadata": {},
     "output_type": "execute_result"
    },
    {
     "data": {
      "image/png": "[encoded data removed]",
      "text/plain": [
       "<Figure size 432x288 with 2 Axes>"
      ]
     },
     "metadata": {
      "needs_background": "light"
     },
     "output_type": "display_data"
    }
   ],
   "source": [
    "sns.heatmap(np.abs(df.corr()) > 0.7)"
   ]
  },
  {
   "cell_type": "markdown",
   "metadata": {},
   "source": [
    "We see that none of the features have a correlation above 0.70 or below -0.70.  Next, I am going to use VIF to determine if I am experiencing multicollinearity. "
   ]
  },
  {
   "cell_type": "code",
   "execution_count": 6,
   "metadata": {},
   "outputs": [],
   "source": [
    "from statsmodels.stats.outliers_influence import variance_inflation_factor"
   ]
  },
  {
   "cell_type": "markdown",
   "metadata": {},
   "source": [
    "Note: per this [open issue](https://github.com/statsmodels/statsmodels/issues/2376) on variance inflation factor you need to add a constant variable to your dataframe.   "
   ]
  },
  {
   "cell_type": "code",
   "execution_count": 8,
   "metadata": {},
   "outputs": [
    {
     "name": "stderr",
     "output_type": "stream",
     "text": [
      "/Users/jeffreyherman/opt/anaconda3/envs/learn-env/lib/python3.6/site-packages/numpy/core/fromnumeric.py:2389: FutureWarning: Method .ptp is deprecated and will be removed in a future version. Use numpy.ptp instead.\n",
      "  return ptp(axis=axis, out=out, **kwargs)\n"
     ]
    }
   ],
   "source": [
    "import statsmodels.api as sm\n",
    "\n",
    "df = sm.add_constant(df)"
   ]
  },
  {
   "cell_type": "markdown",
   "metadata": {},
   "source": [
    "I am going to test out all the features to see what the VIF value is.  I am skipping the first feature (the intercept term). "
   ]
  },
  {
   "cell_type": "code",
   "execution_count": 9,
   "metadata": {},
   "outputs": [
    {
     "name": "stdout",
     "output_type": "stream",
     "text": [
      "X1 inf\n",
      "X2 inf\n",
      "X3 inf\n",
      "X4 1.0410536144535685\n",
      "X5 1.0917593842615227\n",
      "X6 1.0955635908289258\n",
      "X7 1.0425296201253647\n",
      "X8 1.1118123228822059\n",
      "X9 1.0514883476308678\n",
      "X10 1.1173223003485162\n",
      "X11 inf\n"
     ]
    },
    {
     "name": "stderr",
     "output_type": "stream",
     "text": [
      "/Users/jeffreyherman/opt/anaconda3/envs/learn-env/lib/python3.6/site-packages/statsmodels/stats/outliers_influence.py:185: RuntimeWarning: divide by zero encountered in double_scalars\n",
      "  vif = 1. / (1. - r_squared_i)\n"
     ]
    }
   ],
   "source": [
    "for i in range(1, 12):\n",
    "    print(f'{df.drop(\"Y\", axis = 1).columns[i]} {variance_inflation_factor(df.drop(\"Y\", axis = 1).values, i)}')"
   ]
  },
  {
   "cell_type": "markdown",
   "metadata": {},
   "source": [
    "I see I have multiple features that have a VIF value of `inf`.  Lets see what is causing that. \n",
    "\n",
    "Below is the formula for how VIF is calculated. "
   ]
  },
  {
   "cell_type": "markdown",
   "metadata": {},
   "source": [
    "$$ VIF = \\frac{1}{1 - R^2} $$ "
   ]
  },
  {
   "cell_type": "markdown",
   "metadata": {},
   "source": [
    "From above, I got a VIF of `inf` for `X1`.  To calculate VIF for `X1` - I am going to build a regression using all the independent variables except for `X1` and use those features to predict `X1`. "
   ]
  },
  {
   "cell_type": "code",
   "execution_count": 10,
   "metadata": {},
   "outputs": [
    {
     "data": {
      "text/html": [
       "<table class=\"simpletable\">\n",
       "<caption>OLS Regression Results</caption>\n",
       "<tr>\n",
       "  <th>Dep. Variable:</th>           <td>X1</td>        <th>  R-squared:         </th> <td>   1.000</td> \n",
       "</tr>\n",
       "<tr>\n",
       "  <th>Model:</th>                   <td>OLS</td>       <th>  Adj. R-squared:    </th> <td>   1.000</td> \n",
       "</tr>\n",
       "<tr>\n",
       "  <th>Method:</th>             <td>Least Squares</td>  <th>  F-statistic:       </th> <td>1.619e+27</td>\n",
       "</tr>\n",
       "<tr>\n",
       "  <th>Date:</th>             <td>Tue, 28 Jul 2020</td> <th>  Prob (F-statistic):</th>  <td>  0.00</td>  \n",
       "</tr>\n",
       "<tr>\n",
       "  <th>Time:</th>                 <td>20:04:25</td>     <th>  Log-Likelihood:    </th> <td>  2885.6</td> \n",
       "</tr>\n",
       "<tr>\n",
       "  <th>No. Observations:</th>      <td>   100</td>      <th>  AIC:               </th> <td>  -5749.</td> \n",
       "</tr>\n",
       "<tr>\n",
       "  <th>Df Residuals:</th>          <td>    89</td>      <th>  BIC:               </th> <td>  -5720.</td> \n",
       "</tr>\n",
       "<tr>\n",
       "  <th>Df Model:</th>              <td>    10</td>      <th>                     </th>     <td> </td>    \n",
       "</tr>\n",
       "<tr>\n",
       "  <th>Covariance Type:</th>      <td>nonrobust</td>    <th>                     </th>     <td> </td>    \n",
       "</tr>\n",
       "</table>\n",
       "<table class=\"simpletable\">\n",
       "<tr>\n",
       "    <td></td>       <th>coef</th>     <th>std err</th>      <th>t</th>      <th>P>|t|</th>  <th>[0.025</th>    <th>0.975]</th>  \n",
       "</tr>\n",
       "<tr>\n",
       "  <th>const</th> <td>  -26.2418</td> <td> 2.17e-13</td> <td>-1.21e+14</td> <td> 0.000</td> <td>  -26.242</td> <td>  -26.242</td>\n",
       "</tr>\n",
       "<tr>\n",
       "  <th>X2</th>    <td>    1.0000</td> <td> 1.13e-14</td> <td> 8.82e+13</td> <td> 0.000</td> <td>    1.000</td> <td>    1.000</td>\n",
       "</tr>\n",
       "<tr>\n",
       "  <th>X3</th>    <td>   -1.0000</td> <td> 1.06e-14</td> <td>-9.43e+13</td> <td> 0.000</td> <td>   -1.000</td> <td>   -1.000</td>\n",
       "</tr>\n",
       "<tr>\n",
       "  <th>X4</th>    <td>-6.245e-16</td> <td> 7.43e-15</td> <td>   -0.084</td> <td> 0.933</td> <td>-1.54e-14</td> <td> 1.41e-14</td>\n",
       "</tr>\n",
       "<tr>\n",
       "  <th>X5</th>    <td> -4.51e-17</td> <td> 8.15e-15</td> <td>   -0.006</td> <td> 0.996</td> <td>-1.62e-14</td> <td> 1.62e-14</td>\n",
       "</tr>\n",
       "<tr>\n",
       "  <th>X6</th>    <td>  2.22e-16</td> <td> 8.73e-15</td> <td>    0.025</td> <td> 0.980</td> <td>-1.71e-14</td> <td> 1.76e-14</td>\n",
       "</tr>\n",
       "<tr>\n",
       "  <th>X7</th>    <td>-5.925e-16</td> <td> 7.58e-15</td> <td>   -0.078</td> <td> 0.938</td> <td>-1.56e-14</td> <td> 1.45e-14</td>\n",
       "</tr>\n",
       "<tr>\n",
       "  <th>X8</th>    <td> 7.494e-16</td> <td> 7.56e-15</td> <td>    0.099</td> <td> 0.921</td> <td>-1.43e-14</td> <td> 1.58e-14</td>\n",
       "</tr>\n",
       "<tr>\n",
       "  <th>X9</th>    <td>-1.638e-15</td> <td> 7.95e-15</td> <td>   -0.206</td> <td> 0.837</td> <td>-1.74e-14</td> <td> 1.41e-14</td>\n",
       "</tr>\n",
       "<tr>\n",
       "  <th>X10</th>   <td>-4.996e-16</td> <td> 7.58e-15</td> <td>   -0.066</td> <td> 0.948</td> <td>-1.56e-14</td> <td> 1.46e-14</td>\n",
       "</tr>\n",
       "<tr>\n",
       "  <th>X11</th>   <td>    1.0000</td> <td> 8.26e-15</td> <td> 1.21e+14</td> <td> 0.000</td> <td>    1.000</td> <td>    1.000</td>\n",
       "</tr>\n",
       "</table>\n",
       "<table class=\"simpletable\">\n",
       "<tr>\n",
       "  <th>Omnibus:</th>       <td> 0.866</td> <th>  Durbin-Watson:     </th> <td>   0.009</td>\n",
       "</tr>\n",
       "<tr>\n",
       "  <th>Prob(Omnibus):</th> <td> 0.648</td> <th>  Jarque-Bera (JB):  </th> <td>   0.981</td>\n",
       "</tr>\n",
       "<tr>\n",
       "  <th>Skew:</th>          <td> 0.178</td> <th>  Prob(JB):          </th> <td>   0.612</td>\n",
       "</tr>\n",
       "<tr>\n",
       "  <th>Kurtosis:</th>      <td> 2.669</td> <th>  Cond. No.          </th> <td>    761.</td>\n",
       "</tr>\n",
       "</table><br/><br/>Warnings:<br/>[1] Standard Errors assume that the covariance matrix of the errors is correctly specified."
      ],
      "text/plain": [
       "<class 'statsmodels.iolib.summary.Summary'>\n",
       "\"\"\"\n",
       "                            OLS Regression Results                            \n",
       "==============================================================================\n",
       "Dep. Variable:                     X1   R-squared:                       1.000\n",
       "Model:                            OLS   Adj. R-squared:                  1.000\n",
       "Method:                 Least Squares   F-statistic:                 1.619e+27\n",
       "Date:                Tue, 28 Jul 2020   Prob (F-statistic):               0.00\n",
       "Time:                        20:04:25   Log-Likelihood:                 2885.6\n",
       "No. Observations:                 100   AIC:                            -5749.\n",
       "Df Residuals:                      89   BIC:                            -5720.\n",
       "Df Model:                          10                                         \n",
       "Covariance Type:            nonrobust                                         \n",
       "==============================================================================\n",
       "                 coef    std err          t      P>|t|      [0.025      0.975]\n",
       "------------------------------------------------------------------------------\n",
       "const        -26.2418   2.17e-13  -1.21e+14      0.000     -26.242     -26.242\n",
       "X2             1.0000   1.13e-14   8.82e+13      0.000       1.000       1.000\n",
       "X3            -1.0000   1.06e-14  -9.43e+13      0.000      -1.000      -1.000\n",
       "X4         -6.245e-16   7.43e-15     -0.084      0.933   -1.54e-14    1.41e-14\n",
       "X5          -4.51e-17   8.15e-15     -0.006      0.996   -1.62e-14    1.62e-14\n",
       "X6           2.22e-16   8.73e-15      0.025      0.980   -1.71e-14    1.76e-14\n",
       "X7         -5.925e-16   7.58e-15     -0.078      0.938   -1.56e-14    1.45e-14\n",
       "X8          7.494e-16   7.56e-15      0.099      0.921   -1.43e-14    1.58e-14\n",
       "X9         -1.638e-15   7.95e-15     -0.206      0.837   -1.74e-14    1.41e-14\n",
       "X10        -4.996e-16   7.58e-15     -0.066      0.948   -1.56e-14    1.46e-14\n",
       "X11            1.0000   8.26e-15   1.21e+14      0.000       1.000       1.000\n",
       "==============================================================================\n",
       "Omnibus:                        0.866   Durbin-Watson:                   0.009\n",
       "Prob(Omnibus):                  0.648   Jarque-Bera (JB):                0.981\n",
       "Skew:                           0.178   Prob(JB):                        0.612\n",
       "Kurtosis:                       2.669   Cond. No.                         761.\n",
       "==============================================================================\n",
       "\n",
       "Warnings:\n",
       "[1] Standard Errors assume that the covariance matrix of the errors is correctly specified.\n",
       "\"\"\""
      ]
     },
     "execution_count": 10,
     "metadata": {},
     "output_type": "execute_result"
    }
   ],
   "source": [
    "X = df.drop(['X1', 'Y'], axis = 1)\n",
    "Y = df['X1']\n",
    "\n",
    "model = sm.OLS(Y, X).fit()\n",
    "model.summary()"
   ]
  },
  {
   "cell_type": "markdown",
   "metadata": {},
   "source": [
    "I see that I get a perfect R^2.  So plugging this into my VIF formula \n",
    "\n",
    "$$ VIF = \\frac{1}{1 - 1} $$ \n",
    "\n",
    "This is where the `inf` comes from.  I have a problem because I am able to perfectly predict `X1` from the other features.  \n",
    "\n",
    "If we remember, we have 4 features with a `VIF` of `inf`.  I am going to first drop `X1` and see what my new VIF scores are. "
   ]
  },
  {
   "cell_type": "code",
   "execution_count": 11,
   "metadata": {},
   "outputs": [
    {
     "name": "stdout",
     "output_type": "stream",
     "text": [
      "X1 inf\n",
      "X2 inf\n",
      "X3 inf\n",
      "X4 1.0410536144535685\n",
      "X5 1.0917593842615227\n",
      "X6 1.0955635908289258\n",
      "X7 1.0425296201253647\n",
      "X8 1.1118123228822059\n",
      "X9 1.0514883476308678\n",
      "X10 1.1173223003485162\n",
      "X11 inf\n"
     ]
    }
   ],
   "source": [
    "for i in range(1, 12):\n",
    "    print(f'{df.drop([]\"Y\", axis = 1).columns[i]} {variance_inflation_factor(df.drop(\"Y\", axis = 1).values, i)}')"
   ]
  },
  {
   "cell_type": "code",
   "execution_count": 252,
   "metadata": {},
   "outputs": [
    {
     "name": "stdout",
     "output_type": "stream",
     "text": [
      "X1 1.1056812354246772\n",
      "X2 1.0741738574018993\n",
      "X3 1.0836168289787529\n",
      "X4 1.0410536144535685\n",
      "X5 1.0917593842615227\n",
      "X6 1.0955635908289256\n",
      "X7 1.0425296201253647\n",
      "X8 1.1118123228822059\n",
      "X9 1.051488347630868\n",
      "X10 1.1173223003485164\n"
     ]
    }
   ],
   "source": [
    "df.drop(['Y', 'X11'], axis = 1, inplace = True)\n",
    "for i in range(1, 11):\n",
    "    print(f'{df.columns[i]} {variance_inflation_factor(df.values, i)}')"
   ]
  },
  {
   "cell_type": "markdown",
   "metadata": {},
   "source": [
    "Now, I see that I get value for each of the 10 features.  We typically use a threshold of either below 5 or below 10 as a good VIF.  A VIF of 5 means that the other features are able to predict that feature with a R^2 of 0.80.  A VIF of 10 means that the other features are able to predict that feature with a R^2 of 0.90.  "
   ]
  }
 ],
 "metadata": {
  "kernelspec": {
   "display_name": "Python 3",
   "language": "python",
   "name": "python3"
  },
  "language_info": {
   "codemirror_mode": {
    "name": "ipython",
    "version": 3
   },
   "file_extension": ".py",
   "mimetype": "text/x-python",
   "name": "python",
   "nbconvert_exporter": "python",
   "pygments_lexer": "ipython3",
   "version": "3.6.9"
  }
 },
 "nbformat": 4,
 "nbformat_minor": 2
}
