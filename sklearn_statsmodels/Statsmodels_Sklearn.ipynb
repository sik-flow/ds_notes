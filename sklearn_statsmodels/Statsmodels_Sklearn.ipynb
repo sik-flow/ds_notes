{
 "cells": [
  {
   "cell_type": "markdown",
   "metadata": {},
   "source": [
    "I will show how to make a linear regression in Sklearn and Statsmodels.   First I will use sklearn to make a regression dataset. "
   ]
  },
  {
   "cell_type": "code",
   "execution_count": 1,
   "metadata": {},
   "outputs": [],
   "source": [
    "from sklearn.datasets import make_regression\n",
    "import pandas as pd"
   ]
  },
  {
   "cell_type": "code",
   "execution_count": 2,
   "metadata": {},
   "outputs": [],
   "source": [
    "X, y = make_regression(n_features = 2, noise=10, random_state=11, )"
   ]
  },
  {
   "cell_type": "code",
   "execution_count": 3,
   "metadata": {},
   "outputs": [],
   "source": [
    "df = pd.DataFrame(X, columns=['X1', 'X2'])\n",
    "df['Y'] = y"
   ]
  },
  {
   "cell_type": "code",
   "execution_count": 4,
   "metadata": {},
   "outputs": [
    {
     "data": {
      "text/html": [
       "<div>\n",
       "<style scoped>\n",
       "    .dataframe tbody tr th:only-of-type {\n",
       "        vertical-align: middle;\n",
       "    }\n",
       "\n",
       "    .dataframe tbody tr th {\n",
       "        vertical-align: top;\n",
       "    }\n",
       "\n",
       "    .dataframe thead th {\n",
       "        text-align: right;\n",
       "    }\n",
       "</style>\n",
       "<table border=\"1\" class=\"dataframe\">\n",
       "  <thead>\n",
       "    <tr style=\"text-align: right;\">\n",
       "      <th></th>\n",
       "      <th>X1</th>\n",
       "      <th>X2</th>\n",
       "      <th>Y</th>\n",
       "    </tr>\n",
       "  </thead>\n",
       "  <tbody>\n",
       "    <tr>\n",
       "      <th>0</th>\n",
       "      <td>0.217348</td>\n",
       "      <td>0.117820</td>\n",
       "      <td>35.528041</td>\n",
       "    </tr>\n",
       "    <tr>\n",
       "      <th>1</th>\n",
       "      <td>-0.529372</td>\n",
       "      <td>1.561704</td>\n",
       "      <td>53.670233</td>\n",
       "    </tr>\n",
       "    <tr>\n",
       "      <th>2</th>\n",
       "      <td>-0.886240</td>\n",
       "      <td>-0.475733</td>\n",
       "      <td>-93.494490</td>\n",
       "    </tr>\n",
       "    <tr>\n",
       "      <th>3</th>\n",
       "      <td>-0.713560</td>\n",
       "      <td>-1.908290</td>\n",
       "      <td>-142.676470</td>\n",
       "    </tr>\n",
       "    <tr>\n",
       "      <th>4</th>\n",
       "      <td>-1.297423</td>\n",
       "      <td>-0.714962</td>\n",
       "      <td>-107.748177</td>\n",
       "    </tr>\n",
       "  </tbody>\n",
       "</table>\n",
       "</div>"
      ],
      "text/plain": [
       "         X1        X2           Y\n",
       "0  0.217348  0.117820   35.528041\n",
       "1 -0.529372  1.561704   53.670233\n",
       "2 -0.886240 -0.475733  -93.494490\n",
       "3 -0.713560 -1.908290 -142.676470\n",
       "4 -1.297423 -0.714962 -107.748177"
      ]
     },
     "execution_count": 4,
     "metadata": {},
     "output_type": "execute_result"
    }
   ],
   "source": [
    "df.head()"
   ]
  },
  {
   "cell_type": "markdown",
   "metadata": {},
   "source": [
    "### Sklearn"
   ]
  },
  {
   "cell_type": "code",
   "execution_count": 5,
   "metadata": {},
   "outputs": [
    {
     "data": {
      "text/plain": [
       "array([60.05070199, 59.28817607])"
      ]
     },
     "execution_count": 5,
     "metadata": {},
     "output_type": "execute_result"
    }
   ],
   "source": [
    "from sklearn.linear_model import LinearRegression\n",
    "import numpy as np\n",
    "\n",
    "lr = LinearRegression()\n",
    "lr.fit(df[['X1', 'X2']], df['Y'])\n",
    "\n",
    "# Coefficients\n",
    "lr.coef_"
   ]
  },
  {
   "cell_type": "code",
   "execution_count": 6,
   "metadata": {},
   "outputs": [
    {
     "data": {
      "text/plain": [
       "-0.4812452912200803"
      ]
     },
     "execution_count": 6,
     "metadata": {},
     "output_type": "execute_result"
    }
   ],
   "source": [
    "# Intercept \n",
    "lr.intercept_"
   ]
  },
  {
   "cell_type": "code",
   "execution_count": 7,
   "metadata": {},
   "outputs": [
    {
     "data": {
      "text/plain": [
       "array([59.18819374])"
      ]
     },
     "execution_count": 7,
     "metadata": {},
     "output_type": "execute_result"
    }
   ],
   "source": [
    "# Prediction for X1 = 0.5 and X2 = 0.5\n",
    "lr.predict(np.array([.5, .5]).reshape(1, -1))"
   ]
  },
  {
   "cell_type": "code",
   "execution_count": 8,
   "metadata": {},
   "outputs": [
    {
     "data": {
      "text/plain": [
       "0.9846544787076148"
      ]
     },
     "execution_count": 8,
     "metadata": {},
     "output_type": "execute_result"
    }
   ],
   "source": [
    "# R^2\n",
    "lr.score(df[['X1', 'X2']], df['Y'])"
   ]
  },
  {
   "cell_type": "code",
   "execution_count": 9,
   "metadata": {},
   "outputs": [
    {
     "data": {
      "text/plain": [
       "0.9843380762067409"
      ]
     },
     "execution_count": 9,
     "metadata": {},
     "output_type": "execute_result"
    }
   ],
   "source": [
    "# Adjusted R^2\n",
    "R2 = lr.score(df[['X1', 'X2']], df['Y'])\n",
    "n = len(df)\n",
    "p = 2\n",
    "\n",
    "1-(1-R2)*(n-1)/(n-p-1)"
   ]
  },
  {
   "cell_type": "code",
   "execution_count": 10,
   "metadata": {},
   "outputs": [
    {
     "data": {
      "text/plain": [
       "95.90101789061725"
      ]
     },
     "execution_count": 10,
     "metadata": {},
     "output_type": "execute_result"
    }
   ],
   "source": [
    "# mean squared error \n",
    "from sklearn.metrics import mean_squared_error\n",
    "mean_squared_error(df['Y'], lr.predict(df[['X1', 'X2']]))"
   ]
  },
  {
   "cell_type": "markdown",
   "metadata": {},
   "source": [
    "### Statsmodels formula "
   ]
  },
  {
   "cell_type": "code",
   "execution_count": 11,
   "metadata": {},
   "outputs": [
    {
     "name": "stderr",
     "output_type": "stream",
     "text": [
      "/Users/jeffreyherman/opt/anaconda3/lib/python3.7/site-packages/statsmodels/tools/_testing.py:19: FutureWarning: pandas.util.testing is deprecated. Use the functions in the public API at pandas.testing instead.\n",
      "  import pandas.util.testing as tm\n"
     ]
    },
    {
     "data": {
      "text/html": [
       "<table class=\"simpletable\">\n",
       "<caption>OLS Regression Results</caption>\n",
       "<tr>\n",
       "  <th>Dep. Variable:</th>            <td>Y</td>        <th>  R-squared:         </th> <td>   0.985</td>\n",
       "</tr>\n",
       "<tr>\n",
       "  <th>Model:</th>                   <td>OLS</td>       <th>  Adj. R-squared:    </th> <td>   0.984</td>\n",
       "</tr>\n",
       "<tr>\n",
       "  <th>Method:</th>             <td>Least Squares</td>  <th>  F-statistic:       </th> <td>   3112.</td>\n",
       "</tr>\n",
       "<tr>\n",
       "  <th>Date:</th>             <td>Tue, 28 Jul 2020</td> <th>  Prob (F-statistic):</th> <td>1.05e-88</td>\n",
       "</tr>\n",
       "<tr>\n",
       "  <th>Time:</th>                 <td>14:48:25</td>     <th>  Log-Likelihood:    </th> <td> -370.06</td>\n",
       "</tr>\n",
       "<tr>\n",
       "  <th>No. Observations:</th>      <td>   100</td>      <th>  AIC:               </th> <td>   746.1</td>\n",
       "</tr>\n",
       "<tr>\n",
       "  <th>Df Residuals:</th>          <td>    97</td>      <th>  BIC:               </th> <td>   753.9</td>\n",
       "</tr>\n",
       "<tr>\n",
       "  <th>Df Model:</th>              <td>     2</td>      <th>                     </th>     <td> </td>   \n",
       "</tr>\n",
       "<tr>\n",
       "  <th>Covariance Type:</th>      <td>nonrobust</td>    <th>                     </th>     <td> </td>   \n",
       "</tr>\n",
       "</table>\n",
       "<table class=\"simpletable\">\n",
       "<tr>\n",
       "      <td></td>         <th>coef</th>     <th>std err</th>      <th>t</th>      <th>P>|t|</th>  <th>[0.025</th>    <th>0.975]</th>  \n",
       "</tr>\n",
       "<tr>\n",
       "  <th>Intercept</th> <td>   -0.4812</td> <td>    0.994</td> <td>   -0.484</td> <td> 0.630</td> <td>   -2.455</td> <td>    1.492</td>\n",
       "</tr>\n",
       "<tr>\n",
       "  <th>X1</th>        <td>   60.0507</td> <td>    1.052</td> <td>   57.082</td> <td> 0.000</td> <td>   57.963</td> <td>   62.139</td>\n",
       "</tr>\n",
       "<tr>\n",
       "  <th>X2</th>        <td>   59.2882</td> <td>    1.059</td> <td>   56.000</td> <td> 0.000</td> <td>   57.187</td> <td>   61.389</td>\n",
       "</tr>\n",
       "</table>\n",
       "<table class=\"simpletable\">\n",
       "<tr>\n",
       "  <th>Omnibus:</th>       <td> 0.469</td> <th>  Durbin-Watson:     </th> <td>   1.874</td>\n",
       "</tr>\n",
       "<tr>\n",
       "  <th>Prob(Omnibus):</th> <td> 0.791</td> <th>  Jarque-Bera (JB):  </th> <td>   0.619</td>\n",
       "</tr>\n",
       "<tr>\n",
       "  <th>Skew:</th>          <td>-0.128</td> <th>  Prob(JB):          </th> <td>   0.734</td>\n",
       "</tr>\n",
       "<tr>\n",
       "  <th>Kurtosis:</th>      <td> 2.711</td> <th>  Cond. No.          </th> <td>    1.08</td>\n",
       "</tr>\n",
       "</table><br/><br/>Warnings:<br/>[1] Standard Errors assume that the covariance matrix of the errors is correctly specified."
      ],
      "text/plain": [
       "<class 'statsmodels.iolib.summary.Summary'>\n",
       "\"\"\"\n",
       "                            OLS Regression Results                            \n",
       "==============================================================================\n",
       "Dep. Variable:                      Y   R-squared:                       0.985\n",
       "Model:                            OLS   Adj. R-squared:                  0.984\n",
       "Method:                 Least Squares   F-statistic:                     3112.\n",
       "Date:                Tue, 28 Jul 2020   Prob (F-statistic):           1.05e-88\n",
       "Time:                        14:48:25   Log-Likelihood:                -370.06\n",
       "No. Observations:                 100   AIC:                             746.1\n",
       "Df Residuals:                      97   BIC:                             753.9\n",
       "Df Model:                           2                                         \n",
       "Covariance Type:            nonrobust                                         \n",
       "==============================================================================\n",
       "                 coef    std err          t      P>|t|      [0.025      0.975]\n",
       "------------------------------------------------------------------------------\n",
       "Intercept     -0.4812      0.994     -0.484      0.630      -2.455       1.492\n",
       "X1            60.0507      1.052     57.082      0.000      57.963      62.139\n",
       "X2            59.2882      1.059     56.000      0.000      57.187      61.389\n",
       "==============================================================================\n",
       "Omnibus:                        0.469   Durbin-Watson:                   1.874\n",
       "Prob(Omnibus):                  0.791   Jarque-Bera (JB):                0.619\n",
       "Skew:                          -0.128   Prob(JB):                        0.734\n",
       "Kurtosis:                       2.711   Cond. No.                         1.08\n",
       "==============================================================================\n",
       "\n",
       "Warnings:\n",
       "[1] Standard Errors assume that the covariance matrix of the errors is correctly specified.\n",
       "\"\"\""
      ]
     },
     "execution_count": 11,
     "metadata": {},
     "output_type": "execute_result"
    }
   ],
   "source": [
    "from statsmodels.formula.api import ols\n",
    "formula = 'Y ~ X1 + X2'\n",
    "model = ols(formula=formula, data=df).fit()\n",
    "model.summary()"
   ]
  },
  {
   "cell_type": "markdown",
   "metadata": {},
   "source": [
    "The coefficients, intercept, R^2 and adjusted R^2 are all in the summary "
   ]
  },
  {
   "cell_type": "code",
   "execution_count": 12,
   "metadata": {},
   "outputs": [
    {
     "data": {
      "text/plain": [
       "0    59.188194\n",
       "dtype: float64"
      ]
     },
     "execution_count": 12,
     "metadata": {},
     "output_type": "execute_result"
    }
   ],
   "source": [
    "# Prediction for X1 = 0.5 and X2 = 0.5\n",
    "model.predict(dict(X1 = 0.5, X2 = 0.5))"
   ]
  },
  {
   "cell_type": "code",
   "execution_count": 13,
   "metadata": {},
   "outputs": [
    {
     "data": {
      "text/plain": [
       "95.90101789061725"
      ]
     },
     "execution_count": 13,
     "metadata": {},
     "output_type": "execute_result"
    }
   ],
   "source": [
    "# mean squared error \n",
    "mean_squared_error(df['Y'], model.predict(dict(X1 = df['X1'].values, X2 = df['X2'].values)))"
   ]
  },
  {
   "cell_type": "markdown",
   "metadata": {},
   "source": [
    "### Statsmodels API"
   ]
  },
  {
   "cell_type": "code",
   "execution_count": 14,
   "metadata": {},
   "outputs": [
    {
     "data": {
      "text/html": [
       "<table class=\"simpletable\">\n",
       "<caption>OLS Regression Results</caption>\n",
       "<tr>\n",
       "  <th>Dep. Variable:</th>            <td>Y</td>        <th>  R-squared:         </th> <td>   0.985</td>\n",
       "</tr>\n",
       "<tr>\n",
       "  <th>Model:</th>                   <td>OLS</td>       <th>  Adj. R-squared:    </th> <td>   0.984</td>\n",
       "</tr>\n",
       "<tr>\n",
       "  <th>Method:</th>             <td>Least Squares</td>  <th>  F-statistic:       </th> <td>   3112.</td>\n",
       "</tr>\n",
       "<tr>\n",
       "  <th>Date:</th>             <td>Tue, 28 Jul 2020</td> <th>  Prob (F-statistic):</th> <td>1.05e-88</td>\n",
       "</tr>\n",
       "<tr>\n",
       "  <th>Time:</th>                 <td>14:48:25</td>     <th>  Log-Likelihood:    </th> <td> -370.06</td>\n",
       "</tr>\n",
       "<tr>\n",
       "  <th>No. Observations:</th>      <td>   100</td>      <th>  AIC:               </th> <td>   746.1</td>\n",
       "</tr>\n",
       "<tr>\n",
       "  <th>Df Residuals:</th>          <td>    97</td>      <th>  BIC:               </th> <td>   753.9</td>\n",
       "</tr>\n",
       "<tr>\n",
       "  <th>Df Model:</th>              <td>     2</td>      <th>                     </th>     <td> </td>   \n",
       "</tr>\n",
       "<tr>\n",
       "  <th>Covariance Type:</th>      <td>nonrobust</td>    <th>                     </th>     <td> </td>   \n",
       "</tr>\n",
       "</table>\n",
       "<table class=\"simpletable\">\n",
       "<tr>\n",
       "    <td></td>       <th>coef</th>     <th>std err</th>      <th>t</th>      <th>P>|t|</th>  <th>[0.025</th>    <th>0.975]</th>  \n",
       "</tr>\n",
       "<tr>\n",
       "  <th>const</th> <td>   -0.4812</td> <td>    0.994</td> <td>   -0.484</td> <td> 0.630</td> <td>   -2.455</td> <td>    1.492</td>\n",
       "</tr>\n",
       "<tr>\n",
       "  <th>X1</th>    <td>   60.0507</td> <td>    1.052</td> <td>   57.082</td> <td> 0.000</td> <td>   57.963</td> <td>   62.139</td>\n",
       "</tr>\n",
       "<tr>\n",
       "  <th>X2</th>    <td>   59.2882</td> <td>    1.059</td> <td>   56.000</td> <td> 0.000</td> <td>   57.187</td> <td>   61.389</td>\n",
       "</tr>\n",
       "</table>\n",
       "<table class=\"simpletable\">\n",
       "<tr>\n",
       "  <th>Omnibus:</th>       <td> 0.469</td> <th>  Durbin-Watson:     </th> <td>   1.874</td>\n",
       "</tr>\n",
       "<tr>\n",
       "  <th>Prob(Omnibus):</th> <td> 0.791</td> <th>  Jarque-Bera (JB):  </th> <td>   0.619</td>\n",
       "</tr>\n",
       "<tr>\n",
       "  <th>Skew:</th>          <td>-0.128</td> <th>  Prob(JB):          </th> <td>   0.734</td>\n",
       "</tr>\n",
       "<tr>\n",
       "  <th>Kurtosis:</th>      <td> 2.711</td> <th>  Cond. No.          </th> <td>    1.08</td>\n",
       "</tr>\n",
       "</table><br/><br/>Warnings:<br/>[1] Standard Errors assume that the covariance matrix of the errors is correctly specified."
      ],
      "text/plain": [
       "<class 'statsmodels.iolib.summary.Summary'>\n",
       "\"\"\"\n",
       "                            OLS Regression Results                            \n",
       "==============================================================================\n",
       "Dep. Variable:                      Y   R-squared:                       0.985\n",
       "Model:                            OLS   Adj. R-squared:                  0.984\n",
       "Method:                 Least Squares   F-statistic:                     3112.\n",
       "Date:                Tue, 28 Jul 2020   Prob (F-statistic):           1.05e-88\n",
       "Time:                        14:48:25   Log-Likelihood:                -370.06\n",
       "No. Observations:                 100   AIC:                             746.1\n",
       "Df Residuals:                      97   BIC:                             753.9\n",
       "Df Model:                           2                                         \n",
       "Covariance Type:            nonrobust                                         \n",
       "==============================================================================\n",
       "                 coef    std err          t      P>|t|      [0.025      0.975]\n",
       "------------------------------------------------------------------------------\n",
       "const         -0.4812      0.994     -0.484      0.630      -2.455       1.492\n",
       "X1            60.0507      1.052     57.082      0.000      57.963      62.139\n",
       "X2            59.2882      1.059     56.000      0.000      57.187      61.389\n",
       "==============================================================================\n",
       "Omnibus:                        0.469   Durbin-Watson:                   1.874\n",
       "Prob(Omnibus):                  0.791   Jarque-Bera (JB):                0.619\n",
       "Skew:                          -0.128   Prob(JB):                        0.734\n",
       "Kurtosis:                       2.711   Cond. No.                         1.08\n",
       "==============================================================================\n",
       "\n",
       "Warnings:\n",
       "[1] Standard Errors assume that the covariance matrix of the errors is correctly specified.\n",
       "\"\"\""
      ]
     },
     "execution_count": 14,
     "metadata": {},
     "output_type": "execute_result"
    }
   ],
   "source": [
    "import statsmodels.api as sm\n",
    "\n",
    "X = df[['X1', 'X2']]\n",
    "Y = df['Y']\n",
    "\n",
    "# coefficient \n",
    "X = sm.add_constant(X)\n",
    "\n",
    "model = sm.OLS(Y, X).fit()\n",
    "model.summary()"
   ]
  },
  {
   "cell_type": "markdown",
   "metadata": {},
   "source": [
    "The coefficients, intercept, R^2 and adjusted R^2 are all in the summary "
   ]
  },
  {
   "cell_type": "code",
   "execution_count": 15,
   "metadata": {},
   "outputs": [
    {
     "data": {
      "text/plain": [
       "array([59.18819374])"
      ]
     },
     "execution_count": 15,
     "metadata": {},
     "output_type": "execute_result"
    }
   ],
   "source": [
    "# Prediction for X1 = 0.5 and X2 = 0.5\n",
    "# Have to add a 1 in the front due to the y intercept \n",
    "Xnew = np.column_stack([1, .5, .5])\n",
    "model.predict(Xnew)"
   ]
  },
  {
   "cell_type": "code",
   "execution_count": 16,
   "metadata": {},
   "outputs": [
    {
     "data": {
      "text/plain": [
       "95.90101789061725"
      ]
     },
     "execution_count": 16,
     "metadata": {},
     "output_type": "execute_result"
    }
   ],
   "source": [
    "# mean squared error \n",
    "mean_squared_error(df['Y'], model.predict(X))"
   ]
  }
 ],
 "metadata": {
  "kernelspec": {
   "display_name": "Python 3",
   "language": "python",
   "name": "python3"
  },
  "language_info": {
   "codemirror_mode": {
    "name": "ipython",
    "version": 3
   },
   "file_extension": ".py",
   "mimetype": "text/x-python",
   "name": "python",
   "nbconvert_exporter": "python",
   "pygments_lexer": "ipython3",
   "version": "3.7.4"
  }
 },
 "nbformat": 4,
 "nbformat_minor": 2
}
